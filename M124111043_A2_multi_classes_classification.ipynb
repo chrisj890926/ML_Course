{
 "cells": [
  {
   "cell_type": "code",
   "execution_count": 2,
   "metadata": {},
   "outputs": [],
   "source": [
    "import torch\n",
    "import torch.nn as nn\n",
    "import torch.optim as optim\n",
    "import torch.nn.functional as F\n",
    "from torch.utils.data import DataLoader, TensorDataset\n",
    "import pandas as pd\n",
    "import numpy as np\n",
    "\n",
    "train_data = pd.read_csv('fashion-mnist_train.csv')\n",
    "val_data = pd.read_csv('fashion-mnist_val.csv')\n",
    "\n",
    "X_train = train_data.iloc[:, 1:].values \n",
    "y_train = train_data.iloc[:, 0].values  \n",
    "\n",
    "X_val = val_data.iloc[:, 1:].values  \n",
    "y_val = val_data.iloc[:, 0].values  \n",
    "\n",
    "X_train = X_train / 255.0\n",
    "X_val = X_val / 255.0\n",
    "\n",
    "X_train = torch.tensor(X_train, dtype=torch.float32)\n",
    "y_train = torch.tensor(y_train, dtype=torch.long)\n",
    "X_val = torch.tensor(X_val, dtype=torch.float32)\n",
    "y_val = torch.tensor(y_val, dtype=torch.long)\n",
    "\n",
    "train_dataset = TensorDataset(X_train, y_train)\n",
    "val_dataset = TensorDataset(X_val, y_val)\n",
    "\n",
    "train_loader = DataLoader(train_dataset, batch_size=64, shuffle=True)\n",
    "val_loader = DataLoader(val_dataset, batch_size=64, shuffle=False)\n"
   ]
  },
  {
   "cell_type": "code",
   "execution_count": 5,
   "metadata": {},
   "outputs": [],
   "source": [
    "class FashionMNISTModel(nn.Module):\n",
    "    def __init__(self):\n",
    "        super(FashionMNISTModel, self).__init__()\n",
    "        self.fc1 = nn.Linear(784, 256)  \n",
    "        self.fc2 = nn.Linear(256, 128)\n",
    "        self.fc3 = nn.Linear(128, 10)  \n",
    "\n",
    "    def forward(self, x):\n",
    "        x = F.relu(self.fc1(x))\n",
    "        x = F.relu(self.fc2(x))\n",
    "        x = self.fc3(x)  \n",
    "        return x\n",
    "\n",
    "# 初始化模型\n",
    "model = FashionMNISTModel()\n"
   ]
  },
  {
   "cell_type": "code",
   "execution_count": 6,
   "metadata": {},
   "outputs": [],
   "source": [
    "criterion = nn.CrossEntropyLoss()  \n",
    "optimizer = optim.Adam(model.parameters(), lr=0.001)  \n"
   ]
  },
  {
   "cell_type": "code",
   "execution_count": 7,
   "metadata": {},
   "outputs": [
    {
     "name": "stdout",
     "output_type": "stream",
     "text": [
      "Epoch 1, Loss: 0.5510102500518163, Validation Accuracy: 85.11666666666666%\n",
      "Epoch 2, Loss: 0.38987951741615934, Validation Accuracy: 85.75833333333334%\n",
      "Epoch 3, Loss: 0.3481729944149653, Validation Accuracy: 87.10833333333333%\n",
      "Epoch 4, Loss: 0.32167274781068167, Validation Accuracy: 87.125%\n",
      "Epoch 5, Loss: 0.30105073004961014, Validation Accuracy: 87.95%\n",
      "Epoch 6, Loss: 0.2864503592848778, Validation Accuracy: 88.125%\n",
      "Epoch 7, Loss: 0.2725509567409754, Validation Accuracy: 88.11666666666666%\n",
      "Epoch 8, Loss: 0.2581444626748562, Validation Accuracy: 88.80833333333334%\n",
      "Epoch 9, Loss: 0.24809491687019666, Validation Accuracy: 89.175%\n",
      "Epoch 10, Loss: 0.23594823697209358, Validation Accuracy: 88.325%\n"
     ]
    }
   ],
   "source": [
    "epochs = 10\n",
    "for epoch in range(epochs):\n",
    "    \n",
    "    model.train()\n",
    "    running_loss = 0.0\n",
    "    for images, labels in train_loader:\n",
    "        optimizer.zero_grad()  \n",
    "        outputs = model(images) \n",
    "        loss = criterion(outputs, labels)  \n",
    "        loss.backward()  \n",
    "        optimizer.step()  \n",
    "        running_loss += loss.item()\n",
    "    \n",
    "    \n",
    "    model.eval()\n",
    "    correct = 0\n",
    "    total = 0\n",
    "    with torch.no_grad():  \n",
    "        for images, labels in val_loader:\n",
    "            outputs = model(images)\n",
    "            _, predicted = torch.max(outputs, 1)  #\n",
    "            total += labels.size(0)\n",
    "            correct += (predicted == labels).sum().item()\n",
    "    \n",
    "    accuracy = 100 * correct / total\n",
    "    print(f\"Epoch {epoch+1}, Loss: {running_loss / len(train_loader)}, Validation Accuracy: {accuracy}%\")\n"
   ]
  },
  {
   "cell_type": "code",
   "execution_count": 8,
   "metadata": {},
   "outputs": [],
   "source": [
    "torch.save(model.state_dict(), 'fashion_mnist_model.pth')\n"
   ]
  },
  {
   "cell_type": "code",
   "execution_count": 11,
   "metadata": {},
   "outputs": [],
   "source": [
    "test_data = pd.read_csv('fashion-mnist_test.csv')\n",
    "\n",
    "X_test = test_data.iloc[:, 1:].values\n",
    "\n",
    "X_test = X_test / 255.0\n",
    "\n",
    "X_test = torch.tensor(X_test, dtype=torch.float32)\n"
   ]
  },
  {
   "cell_type": "code",
   "execution_count": 12,
   "metadata": {},
   "outputs": [],
   "source": [
    "model.load_state_dict(torch.load('fashion_mnist_model.pth'))\n",
    "\n",
    "model.eval()\n",
    "\n",
    "with torch.no_grad(): \n",
    "    predictions = model(X_test)\n",
    "    _, predicted_labels = torch.max(predictions, 1) \n"
   ]
  },
  {
   "cell_type": "code",
   "execution_count": 13,
   "metadata": {},
   "outputs": [],
   "source": [
    "submission = pd.DataFrame({\n",
    "    'id': np.arange(len(predicted_labels)),\n",
    "    'category': predicted_labels.numpy()\n",
    "})\n",
    "\n",
    "submission.to_csv('submission.csv', index=False)\n"
   ]
  }
 ],
 "metadata": {
  "kernelspec": {
   "display_name": "ml_hw_env",
   "language": "python",
   "name": "python3"
  },
  "language_info": {
   "codemirror_mode": {
    "name": "ipython",
    "version": 3
   },
   "file_extension": ".py",
   "mimetype": "text/x-python",
   "name": "python",
   "nbconvert_exporter": "python",
   "pygments_lexer": "ipython3",
   "version": "3.9.19"
  }
 },
 "nbformat": 4,
 "nbformat_minor": 2
}
